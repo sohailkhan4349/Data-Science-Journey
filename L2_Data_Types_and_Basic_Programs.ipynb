{
  "cells": [
    {
      "cell_type": "markdown",
      "metadata": {
        "id": "view-in-github",
        "colab_type": "text"
      },
      "source": [
        "<a href=\"https://colab.research.google.com/github/sohailkhan4349/Data-science-Journey/blob/main/L2_Data_Types_and_Basic_Programs.ipynb\" target=\"_parent\"><img src=\"https://colab.research.google.com/assets/colab-badge.svg\" alt=\"Open In Colab\"/></a>"
      ]
    },
    {
      "cell_type": "markdown",
      "id": "9cacd9e4",
      "metadata": {
        "id": "9cacd9e4"
      },
      "source": [
        "# Data Types\n",
        "- Write solution of each question in the cell given below the corresponsing question."
      ]
    },
    {
      "cell_type": "markdown",
      "id": "a36a3683",
      "metadata": {
        "id": "a36a3683"
      },
      "source": [
        "#### 1. Write a program to take principal amount, rate and interest as input and calculate simple interest."
      ]
    },
    {
      "cell_type": "code",
      "execution_count": null,
      "id": "z6EiFHNI8sCg",
      "metadata": {
        "colab": {
          "base_uri": "https://localhost:8080/"
        },
        "id": "z6EiFHNI8sCg",
        "outputId": "cb3ec5fc-af97-4bfd-e9d0-72442cd4338e"
      },
      "outputs": [
        {
          "name": "stdout",
          "output_type": "stream",
          "text": [
            "Enter the amount : 3000\n",
            "Enter the rate of interest : 12\n",
            "Enter the duration for the interest : 1\n",
            "The simple interest =  360.0\n"
          ]
        }
      ],
      "source": [
        "amount = int(input('Enter the amount : '))                   #Enter the amount\n",
        "rate = int(input('Enter the rate of interest : '))           #Enter the rate of interest\n",
        "time = int(input('Enter the year for the interest : '))      #Enter the duration for the rate of interest\n",
        "\n",
        "#Simple interest = principle amount * rate of interest * time interval  ----> Formula to calculate Simple interest\n",
        "\n",
        "S = (amount*rate*time)/100                                   #----> Formula to calculate Simple interest\n",
        "\n",
        "print('The simple interest = ', S)"
      ]
    },
    {
      "cell_type": "code",
      "execution_count": null,
      "id": "597725ca",
      "metadata": {
        "id": "597725ca"
      },
      "outputs": [],
      "source": [
        "T = int(input(\"Time duration (in years): \"))\n",
        "\n",
        "P = int(input(\"Principal amount or loan amount: \"))\n",
        "\n",
        "R = int(input(\"Rate of interest (per annum): \"))\n",
        "\n",
        "simple_interest = (P*R*T)/100\n",
        "print(simple_interest)"
      ]
    },
    {
      "cell_type": "markdown",
      "id": "3a9994e0",
      "metadata": {
        "id": "3a9994e0"
      },
      "source": [
        "#### 2. Write a program that takes a string as input and prints the number of words in the string."
      ]
    },
    {
      "cell_type": "code",
      "execution_count": null,
      "id": "SQokqn-Pm7Zv",
      "metadata": {
        "colab": {
          "base_uri": "https://localhost:8080/"
        },
        "id": "SQokqn-Pm7Zv",
        "outputId": "065225c4-64e8-4e76-89f4-e653f9e2310c"
      },
      "outputs": [
        {
          "name": "stdout",
          "output_type": "stream",
          "text": [
            "Type the sentence to know its length: My name is sohail khan\n",
            "The original string is :  My name is sohail khan\n",
            "The length of the string is :  5\n"
          ]
        }
      ],
      "source": [
        "name= str(input(\"Type the sentence to know its length: \"))  # taking the str input from the user\n",
        "print(\"The original string is : \", name)                    # printing the input from the user\n",
        "print(\"The length of the string is : \", len(name.split()))  # Used split and len keyword to know the length of the string"
      ]
    },
    {
      "cell_type": "markdown",
      "id": "8a8d5e27",
      "metadata": {
        "id": "8a8d5e27"
      },
      "source": [
        "#### 3. Write a program to take a list of numbers as input (in a single line) and print the sum, avg, max and min elements."
      ]
    },
    {
      "cell_type": "code",
      "execution_count": null,
      "id": "c01fb838",
      "metadata": {
        "id": "c01fb838",
        "outputId": "2749975d-5730-4e41-e524-d59d34882a63"
      },
      "outputs": [
        {
          "name": "stdout",
          "output_type": "stream",
          "text": [
            "Enter elements of a list separated by space :23 21 232 646 123\n",
            "\n",
            "\n",
            "The numbers in list are :  [23, 21, 232, 646, 123]\n",
            "Sum =  1045\n"
          ]
        }
      ],
      "source": [
        "input_num = input('Enter elements of a list separated by space :')\n",
        "print(\"\\n\")\n",
        "user_list = input_num.split()\n",
        "\n",
        "# convert each item to int type\n",
        "for i in range(len(user_list)):\n",
        "    # convert each item to int type\n",
        "    user_list[i] = int(user_list[i])\n",
        "print(\"The numbers in list are : \", user_list)\n"
      ]
    },
    {
      "cell_type": "code",
      "execution_count": null,
      "id": "cc89db14",
      "metadata": {
        "id": "cc89db14",
        "outputId": "800dde35-33f1-4281-b852-31143917b668"
      },
      "outputs": [
        {
          "name": "stdout",
          "output_type": "stream",
          "text": [
            "The list is :  [23, 21, 232, 646, 123]\n",
            "Sum =  1045\n"
          ]
        }
      ],
      "source": [
        "print(\"The list is : \", user_list)\n",
        "print(\"Sum = \", sum(user_list))        # Calculating the sum of list elements"
      ]
    },
    {
      "cell_type": "code",
      "execution_count": null,
      "id": "2a617e92",
      "metadata": {
        "id": "2a617e92",
        "outputId": "f9e269b9-b003-4a0d-e996-4025df208c79"
      },
      "outputs": [
        {
          "name": "stdout",
          "output_type": "stream",
          "text": [
            "The list is :  [23, 21, 232, 646, 123]\n",
            "The average is :  209\n"
          ]
        }
      ],
      "source": [
        "print(\"The list is : \", user_list)\n",
        "print(\"The average is : \", sum(user_list)//len(user_list))  # printing the average of the given variable"
      ]
    },
    {
      "cell_type": "code",
      "execution_count": null,
      "id": "e46a517a",
      "metadata": {
        "id": "e46a517a",
        "outputId": "9a6354af-c06f-4cdc-ef96-60654800e7ec"
      },
      "outputs": [
        {
          "name": "stdout",
          "output_type": "stream",
          "text": [
            "646\n",
            "21\n"
          ]
        }
      ],
      "source": [
        "print(max(user_list))      #using max and min to find out maximum and minimum number from the list\n",
        "print(min(user_list))"
      ]
    },
    {
      "cell_type": "markdown",
      "id": "17dbd6e8",
      "metadata": {
        "id": "17dbd6e8"
      },
      "source": [
        "#### 4. Write a program to take the marks of 3 students in five subjects each as a list (one list for each input) as input and print the average score of each student.."
      ]
    },
    {
      "cell_type": "code",
      "execution_count": null,
      "id": "4a7c4fc0",
      "metadata": {
        "id": "4a7c4fc0",
        "outputId": "fa39676b-1073-43a3-ba1d-efefef05f98c"
      },
      "outputs": [
        {
          "name": "stdout",
          "output_type": "stream",
          "text": [
            "enter marks of john followed by space of 5 subjects : 78 85 70 88 77\n",
            "enter marks of tim followed by space of 5 subjects : 87 69 87 67 90\n",
            "enter marks of tom followed by space of 5 subjects : 76 97 92 79 81\n",
            "\n",
            "\n",
            "the marks are as follows of John :  [78, 85, 70, 88, 77]\n",
            "and average marks scored :  79\n",
            "\n",
            "\n",
            "the marks are as follows of Tim :  [87, 69, 87, 67, 90]\n",
            "and average marks scored :  80\n",
            "\n",
            "\n",
            "the marks are as follows of Tom :  [76, 97, 92, 79, 81]\n",
            "and average marks scored :  85\n"
          ]
        }
      ],
      "source": [
        "john=input(\"enter marks of john followed by space of 5 subjects : \")\n",
        "tim=input(\"enter marks of tim followed by space of 5 subjects : \")\n",
        "tom=input(\"enter marks of tom followed by space of 5 subjects : \")\n",
        "s1= john.split()\n",
        "s2= tim.split()\n",
        "s3= tom.split()\n",
        "\n",
        "print(\"\\n\")\n",
        "\n",
        "for i in range (len(s1)):\n",
        "    s1[i]=int(s1[i])\n",
        "print(\"the marks are as follows of John : \", s1 )\n",
        "print(\"and average marks scored : \", int(sum(s1))//len(s1))\n",
        "print(\"\\n\")\n",
        "for i in range (len(s2)):\n",
        "    s2[i]=int(s2[i])\n",
        "print(\"the marks are as follows of Tim : \", s2 )\n",
        "print(\"and average marks scored : \", int(sum(s2))//len(s2))\n",
        "print(\"\\n\")\n",
        "\n",
        "for i in range (len(s1)):\n",
        "    s3[i]=int(s3[i])\n",
        "print(\"the marks are as follows of Tom : \", s3 )\n",
        "print(\"and average marks scored : \", int(sum(s3))//len(s3))\n"
      ]
    },
    {
      "cell_type": "markdown",
      "id": "39fb8526",
      "metadata": {
        "id": "39fb8526"
      },
      "source": [
        "#### 5. Write a program to take a list as input containing results of 10 coin tosses as 'H' or 'T'. Jon gets a point for each 'T' and Tom gets a point for each 'H'. print the points recieved by both."
      ]
    },
    {
      "cell_type": "code",
      "execution_count": null,
      "id": "e5cb25bd",
      "metadata": {
        "id": "e5cb25bd",
        "outputId": "6527b365-6b04-41c6-b3c3-7474cb89c5ad"
      },
      "outputs": [
        {
          "name": "stdout",
          "output_type": "stream",
          "text": [
            "Enter the results of 10 coin tosses as 'H' or 'T' H T H T H H T H H T\n",
            "The points received by Tom are : 6\n",
            "The points received by Tom are : 4\n"
          ]
        }
      ],
      "source": [
        "toss= input(\"Enter the results of 10 coin tosses as 'H' or 'T' \")\n",
        "t1= toss.count(\"H\")                                               #counting the times of H\n",
        "t2= toss.count(\"T\")                                               #counting the times of T\n",
        "print(\"The points received by Tom are :\", t1)                     #printing the count values as results\n",
        "print(\"The points received by Tom are :\", t2)"
      ]
    },
    {
      "cell_type": "markdown",
      "id": "4a6dc391",
      "metadata": {
        "id": "4a6dc391"
      },
      "source": [
        "#### 6. Take two numbers as input and print the result after swapping them. (Without using multiple assignment and any extra variable)."
      ]
    },
    {
      "cell_type": "code",
      "execution_count": null,
      "id": "1bcd0fe3",
      "metadata": {
        "id": "1bcd0fe3",
        "outputId": "b83a26d8-efd9-49c7-f119-9c98c931906c"
      },
      "outputs": [
        {
          "name": "stdout",
          "output_type": "stream",
          "text": [
            "The value of a after swapping is 15\n",
            "The value of b after swapping is 10\n"
          ]
        }
      ],
      "source": [
        "a = 10\n",
        "b = 15\n",
        "\n",
        "# now creating the variables to swap the values.\n",
        "x = a\n",
        "a = b\n",
        "b = x\n",
        "\n",
        "print(\"The value of a after swapping is {}\" .format(a))\n",
        "print(\"The value of b after swapping is {}\" .format(b))"
      ]
    },
    {
      "cell_type": "code",
      "execution_count": null,
      "id": "9e3111a6",
      "metadata": {
        "id": "9e3111a6",
        "outputId": "7264c88b-df48-415a-b38e-2db7c27713ed"
      },
      "outputs": [
        {
          "name": "stdout",
          "output_type": "stream",
          "text": [
            "a = 15\n",
            "b = 10\n"
          ]
        }
      ],
      "source": [
        "a = 10\n",
        "b = 15\n",
        "\n",
        "a, b = b, a\n",
        "print(\"a =\", a)\n",
        "print(\"b =\", b)"
      ]
    },
    {
      "cell_type": "markdown",
      "id": "b0059e36",
      "metadata": {
        "id": "b0059e36"
      },
      "source": [
        "#### 7. Take a list as input in a single line containing 10 numbers as marks out of 100. The even positions in the list are marks of Tom and the odd positions are the marks of Jon. Calculate the average marks of both."
      ]
    },
    {
      "cell_type": "code",
      "execution_count": null,
      "id": "80ccab39",
      "metadata": {
        "id": "80ccab39",
        "outputId": "ce3574d4-ca22-4d94-c63b-9a1bca7c0c84"
      },
      "outputs": [
        {
          "name": "stdout",
          "output_type": "stream",
          "text": [
            "enter the marks : 76\n",
            "enter the marks : 67\n",
            "enter the marks : 85\n",
            "enter the marks : 80\n",
            "enter the marks : 65\n",
            "enter the marks : 54\n",
            "enter the marks : 50\n",
            "enter the marks : 41\n",
            "enter the marks : 76\n",
            "enter the marks : 56\n",
            "The marks are as follows :  [76, 67, 85, 80, 65, 54, 50, 41, 76, 56]\n"
          ]
        }
      ],
      "source": [
        "                                             #creating an empty\n",
        "List = []\n",
        "                                             # taking n value to limit values to 10 in range function\n",
        "n=10\n",
        "for i in range(0,n):\n",
        "    marks=int((input(\"enter the marks : \")))\n",
        "                                             # adding the values to Empty list\n",
        "    List.append(marks)\n",
        "print(\"The marks are as follows : \", List)"
      ]
    },
    {
      "cell_type": "code",
      "execution_count": null,
      "id": "7cfff24e",
      "metadata": {
        "id": "7cfff24e",
        "outputId": "c7088b32-bf64-4fcd-8ade-a239e31eab79"
      },
      "outputs": [
        {
          "name": "stdout",
          "output_type": "stream",
          "text": [
            "[76, 85, 65, 50, 76]\n",
            "The average marks of Tom are : 70\n"
          ]
        }
      ],
      "source": [
        "marks_tom = List[0:10:2]                    #using the indexing method to print the marks of tom as per condition given\n",
        "print(marks_tom)\n",
        "\n",
        "avg_tom = sum(marks_tom)//len(marks_tom)   # printing the average of Tom's total mark's\n",
        "print(\"The average marks of Tom are :\" ,avg_tom)"
      ]
    },
    {
      "cell_type": "code",
      "execution_count": null,
      "id": "5a17a867",
      "metadata": {
        "id": "5a17a867",
        "outputId": "141963c1-ca38-413d-9255-ebc08f918738"
      },
      "outputs": [
        {
          "name": "stdout",
          "output_type": "stream",
          "text": [
            "[67, 80, 54, 41, 56]\n",
            "The average marks of Jon are : 59\n"
          ]
        }
      ],
      "source": [
        "marks_jon = List[1:10:2]                    #using the indexing method to print the marks of Jon as per condition given\n",
        "print(marks_jon)\n",
        "\n",
        "avg_jon = sum(marks_jon)//len(marks_jon)    # printing the average of Jon's total mark's\n",
        "print(\"The average marks of Jon are :\", avg_jon)"
      ]
    },
    {
      "cell_type": "markdown",
      "id": "f07dab7c",
      "metadata": {
        "id": "f07dab7c"
      },
      "source": [
        "#### 8. Take a string and a character as input. Print the result having the character between each word of the given string."
      ]
    },
    {
      "cell_type": "code",
      "execution_count": null,
      "id": "29079f2c",
      "metadata": {
        "id": "29079f2c",
        "outputId": "d8a86f01-df70-4a6b-b355-2e2ca0ebb8b7"
      },
      "outputs": [
        {
          "name": "stdout",
          "output_type": "stream",
          "text": [
            "enter stringmy name is sohail\n",
            " 10\n",
            "my10name10is10sohail\n"
          ]
        }
      ],
      "source": [
        "string=input(\"enter string\")\n",
        "char=input(\" \")\n",
        "print(string.replace(\" \", char))"
      ]
    },
    {
      "cell_type": "markdown",
      "id": "a45320b7",
      "metadata": {
        "id": "a45320b7"
      },
      "source": [
        "#### 9. Create a dictionary having three items. Key of each item is the name of a student, value associated with each key is a list of marks in five subjects. Given this dictionary print the average score of each student."
      ]
    },
    {
      "cell_type": "code",
      "execution_count": null,
      "id": "2vFaqcGP-MmK",
      "metadata": {
        "id": "2vFaqcGP-MmK"
      },
      "outputs": [],
      "source": [
        "Dict = { \"my\": [78,78,67,86,86], \"name\": [78,78,90,86,86], \"is\": [70,78,67,86,86] }"
      ]
    },
    {
      "cell_type": "code",
      "execution_count": null,
      "id": "2aad2148",
      "metadata": {
        "id": "2aad2148",
        "outputId": "e7c0d5e4-7aac-4551-b405-4d3dea67acfc"
      },
      "outputs": [
        {
          "name": "stdout",
          "output_type": "stream",
          "text": [
            "The average marks of student 1 are :  79\n"
          ]
        }
      ],
      "source": [
        "s1 = Dict[\"my\"]\n",
        "print(\"The average marks of student 1 are : \", sum(s1)//len(s1))"
      ]
    },
    {
      "cell_type": "code",
      "execution_count": null,
      "id": "c69392f9",
      "metadata": {
        "id": "c69392f9",
        "outputId": "6fa0f91d-7933-4f4b-9933-8cc5914eae66"
      },
      "outputs": [
        {
          "name": "stdout",
          "output_type": "stream",
          "text": [
            "The average marks of student 2 are :  83\n"
          ]
        }
      ],
      "source": [
        "s2 = Dict[\"name\"]\n",
        "print(\"The average marks of student 2 are : \", sum(s2)//len(s2))"
      ]
    },
    {
      "cell_type": "code",
      "execution_count": null,
      "id": "72826990",
      "metadata": {
        "id": "72826990",
        "outputId": "2924f9bc-3c23-49d0-81e3-c2e16ec0db53"
      },
      "outputs": [
        {
          "name": "stdout",
          "output_type": "stream",
          "text": [
            "The average marks of student 3 are :  83\n"
          ]
        }
      ],
      "source": [
        "s1 = Dict[\"is\"]\n",
        "print(\"The average marks of student 3 are : \", sum(s3)//len(s3))"
      ]
    },
    {
      "cell_type": "markdown",
      "id": "aba63bd1",
      "metadata": {
        "id": "aba63bd1"
      },
      "source": [
        "#### 10. Take a string as input(may contain repetitive words), print a list consisting of unique words from the given string."
      ]
    },
    {
      "cell_type": "code",
      "execution_count": null,
      "id": "82a46d8a",
      "metadata": {
        "id": "82a46d8a",
        "outputId": "f0092fa2-e32a-49ea-8c0a-98e7a9589e14"
      },
      "outputs": [
        {
          "name": "stdout",
          "output_type": "stream",
          "text": [
            "enter the string : my name is my name is\n",
            "['is', 'name', 'my']\n"
          ]
        }
      ],
      "source": [
        "Str = (input(\"enter the string : \"))  # taking the user string input\n",
        "unique= set((Str.split(\" \")))         # using set and split function to split and count the unique words in the sentence\n",
        "print(list(unique))       # added list keyword after submitting this"
      ]
    },
    {
      "cell_type": "code",
      "execution_count": null,
      "id": "939c3f19",
      "metadata": {
        "id": "939c3f19"
      },
      "outputs": [],
      "source": []
    }
  ],
  "metadata": {
    "colab": {
      "provenance": [],
      "include_colab_link": true
    },
    "kernelspec": {
      "display_name": "Python 3 (ipykernel)",
      "language": "python",
      "name": "python3"
    },
    "language_info": {
      "codemirror_mode": {
        "name": "ipython",
        "version": 3
      },
      "file_extension": ".py",
      "mimetype": "text/x-python",
      "name": "python",
      "nbconvert_exporter": "python",
      "pygments_lexer": "ipython3",
      "version": "3.10.9"
    }
  },
  "nbformat": 4,
  "nbformat_minor": 5
}