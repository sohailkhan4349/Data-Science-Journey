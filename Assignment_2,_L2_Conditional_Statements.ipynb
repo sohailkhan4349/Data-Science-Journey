{
  "cells": [
    {
      "cell_type": "markdown",
      "metadata": {
        "id": "view-in-github",
        "colab_type": "text"
      },
      "source": [
        "<a href=\"https://colab.research.google.com/github/sohailkhan4349/Data-science-Journey/blob/main/Assignment_2%2C_L2_Conditional_Statements.ipynb\" target=\"_parent\"><img src=\"https://colab.research.google.com/assets/colab-badge.svg\" alt=\"Open In Colab\"/></a>"
      ]
    },
    {
      "cell_type": "markdown",
      "id": "3a10df7a",
      "metadata": {
        "id": "3a10df7a"
      },
      "source": [
        "# Conditional Statements\n",
        "- Write solution of each question in the cell given below the corresponsing question."
      ]
    },
    {
      "cell_type": "markdown",
      "id": "60c2d89a",
      "metadata": {
        "id": "60c2d89a"
      },
      "source": [
        "#### 1. Take a list of numbers as input. Print whether the average is even or odd."
      ]
    },
    {
      "cell_type": "code",
      "execution_count": null,
      "id": "9f2ebae5",
      "metadata": {
        "id": "9f2ebae5",
        "outputId": "d128cd6b-9a02-4522-c8c3-ef4ae34739eb"
      },
      "outputs": [
        {
          "name": "stdout",
          "output_type": "stream",
          "text": [
            "how many numbers you want to enter?6\n",
            "enter the numbers : 10\n",
            "enter the numbers : 4\n",
            "enter the numbers : 3\n",
            "enter the numbers : 3\n",
            "enter the numbers : 2\n",
            "enter the numbers : 2\n",
            "The entered numbers are :  [10, 4, 3, 3, 2, 2]\n",
            "\n",
            "\n",
            "The sum of entered number is :  24\n",
            "The avg of entered numbers is EVEN!\n"
          ]
        }
      ],
      "source": [
        "L = []\n",
        "n = int(input(\"how many numbers you want to enter?\"))\n",
        "\n",
        "for i in range(n):\n",
        "    lst = int(input(\"enter the numbers : \"))\n",
        "    L.append(lst)\n",
        "print(\"The entered numbers are : \", L)\n",
        "print(\"\\n\")\n",
        "avg = sum(L)/len(L)\n",
        "print(\"The sum of entered number is : \", sum(L))\n",
        "if (avg%2)==0:\n",
        "    print(\"The avg of entered numbers is EVEN!\")\n",
        "else:\n",
        "    print(\"The avg of entered numbers is ODD!\")"
      ]
    },
    {
      "cell_type": "markdown",
      "id": "4846bb19",
      "metadata": {
        "id": "4846bb19"
      },
      "source": [
        "#### 2. Take three strings as input. Calculate the number of words in each string and find out the list having highest number of words."
      ]
    },
    {
      "cell_type": "code",
      "execution_count": null,
      "id": "e2984a70",
      "metadata": {
        "id": "e2984a70",
        "outputId": "6c4c8e8b-a1b3-43ec-f7f6-4db42b22c216"
      },
      "outputs": [
        {
          "name": "stdout",
          "output_type": "stream",
          "text": [
            "Enter the number of strings you want to enter : 3\n",
            "enter the string : my name is sohail khan\n",
            "enter the string : I'm staying in hyd\n",
            "enter the string : working in Amazon\n",
            "The given strings are :  ['my name is sohail khan', \"I'm staying in hyd\", 'working in Amazon']\n",
            "The lengths of given strings are :  [5, 4, 3]\n",
            "\n",
            "\n",
            "5\n",
            "0\n",
            "The highest number of words string is :  my name is sohail khan\n"
          ]
        }
      ],
      "source": [
        "strings = []\n",
        "numb = int(input(\"Enter the number of strings you want to enter : \"))\n",
        "for i in range(numb):\n",
        "    string = input(\"enter the string : \")      # taking the string input from the user\n",
        "    strings.append(string)                  # appending the given input string to the created variable\n",
        "print(\"The given strings are : \", strings)\n",
        "words = []\n",
        "for string in strings:\n",
        "    word = string.split(\" \")    # we're splitting the words in the seperates string\n",
        "    count = len(word)           # counting the length of the diff strings\n",
        "    words.append(count)         # appending the length values of strings in the varialbe\n",
        "print(\"The lengths of given strings are : \", words)\n",
        "print(\"\\n\")\n",
        "max_words = max(words)                       # by using this we're finding max count numbers of words\n",
        "print(max_words)\n",
        "max_word_index= words.index(max_words)      # by using this we will know at which the high count of string is present\n",
        "print(max_word_index)\n",
        "print(\"The highest number of words string is : \", strings[max_word_index])  # giving thprint((max_word_index)e index number at the which the required string is prresent"
      ]
    },
    {
      "cell_type": "markdown",
      "id": "0e0d8196",
      "metadata": {
        "id": "0e0d8196"
      },
      "source": [
        "#### 3. Take four numbers as input in a single line. Find out the largest number."
      ]
    },
    {
      "cell_type": "code",
      "execution_count": null,
      "id": "2b724327",
      "metadata": {
        "id": "2b724327",
        "outputId": "41ba2a4e-6824-4ea6-f64d-784e01c9ef15"
      },
      "outputs": [
        {
          "name": "stdout",
          "output_type": "stream",
          "text": [
            "enter the four numbers : 34\n",
            "enter the four numbers : 54\n",
            "enter the four numbers : 35\n",
            "enter the four numbers : 64\n",
            "the given numbers are :  ['34', '54', '35', '64']\n",
            "\n",
            "\n",
            "The highest number in the list is  64\n"
          ]
        }
      ],
      "source": [
        "num = []\n",
        "n =4\n",
        "for i in range(4):\n",
        "    n1 = input(\"enter the four numbers : \")\n",
        "    num.append(n1)\n",
        "print(\"the given numbers are : \", num)\n",
        "print(\"\\n\")\n",
        "print(\"The highest number in the list is \", max(num))"
      ]
    },
    {
      "cell_type": "markdown",
      "id": "16c0440a",
      "metadata": {
        "id": "16c0440a"
      },
      "source": [
        "#### 4. Take four numbers as input and find the second largest numer."
      ]
    },
    {
      "cell_type": "code",
      "execution_count": null,
      "id": "795ee65e",
      "metadata": {
        "id": "795ee65e",
        "outputId": "25def3b4-53c5-456e-9168-24a59cc3d337"
      },
      "outputs": [
        {
          "name": "stdout",
          "output_type": "stream",
          "text": [
            "enter the four numbers : 34\n",
            "enter the four numbers : 64\n",
            "enter the four numbers : 35\n",
            "enter the four numbers : 63\n",
            "the given numbers are :  ['34', '64', '35', '63']\n",
            "['34', '35', '63', '64']\n",
            "\n",
            "\n",
            "The second largest number in the list is :  63\n"
          ]
        }
      ],
      "source": [
        "num = []\n",
        "n =4\n",
        "for i in range(4):\n",
        "    n1 = input(\"enter the four numbers : \")\n",
        "    num.append(n1)\n",
        "print(\"the given numbers are : \", num)\n",
        "n1 = (num.sort())\n",
        "print(num)\n",
        "print(\"\\n\")\n",
        "print(\"The second largest number in the list is : \", num[-2])"
      ]
    },
    {
      "cell_type": "markdown",
      "id": "2f6641a4",
      "metadata": {
        "id": "2f6641a4"
      },
      "source": [
        "#### 5. Create a dictionary having three items. Key of each item is the name of a student, value associated with each key is a list of marks in five subjects. Given this dictionary print the top and lowest scorers."
      ]
    },
    {
      "cell_type": "code",
      "execution_count": null,
      "id": "F5HgtrHdofCn",
      "metadata": {
        "id": "F5HgtrHdofCn",
        "outputId": "5cd23113-6542-4204-b1af-993d700c2df8"
      },
      "outputs": [
        {
          "name": "stdout",
          "output_type": "stream",
          "text": [
            "{'sohail': 373, 'khan': 363, 'mohammed': 397}\n",
            "the max marks scorer is mohammed and marks are 397 \n",
            "the min marks scorer is khan and marks are 363 \n"
          ]
        }
      ],
      "source": [
        "my_dict = {\"sohail\": [67,87,76,78,65], \"khan\":[67,86,56,81,73], \"mohammed\":[91,76,82,78,70]}\n",
        "for i in my_dict:\n",
        "    my_dict[i]=sum(my_dict[i])\n",
        "print(my_dict)\n",
        "\n",
        "keys = list(my_dict.keys())\n",
        "values = list(my_dict.values())\n",
        "\n",
        "maxi = max(values)\n",
        "mini= min(values)\n",
        "\n",
        "max_keys = keys[values.index(maxi)]\n",
        "min_keys = keys[values.index(mini)]\n",
        "\n",
        "\n",
        "print (\"the max marks scorer is {} and marks are {} \". format(max_keys,maxi))\n",
        "print (\"the min marks scorer is {} and marks are {} \". format(min_keys,mini))\n"
      ]
    },
    {
      "cell_type": "markdown",
      "id": "64db0791",
      "metadata": {
        "id": "64db0791"
      },
      "source": [
        "#### 6. Create a dictionary (called data) of having at least 5 items : Usernames as keys and Passwords as values. Write a program that takes a username and a password as input. If the credentials match any iteam in the given dictionary data then print acces granted otherwise print whether username, password or both are wrong."
      ]
    },
    {
      "cell_type": "code",
      "execution_count": null,
      "id": "1ca5ccba",
      "metadata": {
        "id": "1ca5ccba",
        "outputId": "5738b5d6-1a2a-4187-a593-06fcd6daa51a"
      },
      "outputs": [
        {
          "name": "stdout",
          "output_type": "stream",
          "text": [
            "enter the username : user5\n",
            "enter the password : qwerty5\n",
            "Access Granted!!\n"
          ]
        }
      ],
      "source": [
        "data={\"user1\": \"qwerty1\", \"user2\":\"qwerty2\", \"user3\": \"qwerty3\", \"user4\": \"qwerty4\", \"user5\": \"qwerty5\"}\n",
        "user_name = input(\"enter the username : \")\n",
        "password= input(\"enter the password : \")\n",
        "\n",
        "if user_name in data and data[user_name]==password:\n",
        "    print(\"Access Granted!!\")\n",
        "else:\n",
        "    if user_name in data and data[user_name]!=password:\n",
        "        print(\"Incorrect password\")\n",
        "    if user_name not in data:\n",
        "        print(\"Invalid credentails\")\n",
        ""
      ]
    },
    {
      "cell_type": "markdown",
      "id": "27c56bb8",
      "metadata": {
        "id": "27c56bb8"
      },
      "source": [
        "#### 7. Take a list as input in a single line containing 15 numbers as marks out of 100. The first five numbers in the list are marks of Tom, the middle 5 numbers are marks of Bob and the last 5 are the marks of Jon. Find out the top and lowest scorer."
      ]
    },
    {
      "cell_type": "code",
      "execution_count": null,
      "id": "-FrUlDTsn867",
      "metadata": {
        "id": "-FrUlDTsn867",
        "outputId": "8b6d8d8f-2ab3-446c-91bd-dec1862cf211"
      },
      "outputs": [
        {
          "name": "stdout",
          "output_type": "stream",
          "text": [
            "enter the marks of Tom, Bob and John in five subjects respectuvely : 78\n",
            "enter the marks of Tom, Bob and John in five subjects respectuvely : 87\n",
            "enter the marks of Tom, Bob and John in five subjects respectuvely : 67\n",
            "enter the marks of Tom, Bob and John in five subjects respectuvely : 56\n",
            "enter the marks of Tom, Bob and John in five subjects respectuvely : 76\n",
            "enter the marks of Tom, Bob and John in five subjects respectuvely : 78\n",
            "enter the marks of Tom, Bob and John in five subjects respectuvely : 67\n",
            "enter the marks of Tom, Bob and John in five subjects respectuvely : 68\n",
            "enter the marks of Tom, Bob and John in five subjects respectuvely : 76\n",
            "enter the marks of Tom, Bob and John in five subjects respectuvely : 79\n",
            "enter the marks of Tom, Bob and John in five subjects respectuvely : 90\n",
            "enter the marks of Tom, Bob and John in five subjects respectuvely : 78\n",
            "enter the marks of Tom, Bob and John in five subjects respectuvely : 86\n",
            "enter the marks of Tom, Bob and John in five subjects respectuvely : 67\n",
            "enter the marks of Tom, Bob and John in five subjects respectuvely : 86\n",
            "The marks of three students in five subjects are as follows :  ['78', '87', '67', '56', '76', '78', '67', '68', '76', '79', '90', '78', '86', '67', '86']\n",
            "\n",
            "\n",
            "The Tom's marks are :  ['78', '87', '67', '56', '76']\n",
            "The Bob's marks are :  ['78', '67', '68', '76', '79']\n",
            "The Jon's marks are :  ['90', '78', '86', '67', '86']\n",
            "10\n",
            "The top scorer is Bob, his marks are :  90\n",
            "\n",
            "\n",
            "The lowest scorer is tom 56\n"
          ]
        }
      ],
      "source": [
        "L =[]\n",
        "n =15\n",
        "for i in range(0,n):\n",
        "    L_new= input(\"enter the marks of Tom, Bob and John in five subjects respectuvely : \")\n",
        "    L.append(L_new)\n",
        "print(\"The marks of three students in five subjects are as follows : \", L)\n",
        "print(\"\\n\")\n",
        "Tom_marks = L[0:5]\n",
        "print(\"The Tom's marks are : \", Tom_marks )\n",
        "Bob_marks = L[5:10]\n",
        "print(\"The Bob's marks are : \", Bob_marks )\n",
        "Jon_marks = L[10:15]\n",
        "print(\"The Jon's marks are : \", Jon_marks )\n",
        "maxi= max(L)\n",
        "max_marks = L.index(maxi)\n",
        "print(max_marks)\n",
        "mini =min(L)\n",
        "min_marks=L.index(mini)\n",
        "\n",
        "if max_marks==5 or max_marks<5:\n",
        "    print(\"The maximum scorer is Tom,his marks are : \", maxi)\n",
        "elif max_marks==15 or max_marks>10:\n",
        "    print(\"The maximum scorer is Jon, his marks are : \", maxi)\n",
        "else:\n",
        "    print(\"The top scorer is Bob, his marks are : \", maxi)\n",
        "print(\"\\n\")\n",
        "if min_marks==5 or min_marks<5:\n",
        "    print(\"The lowest scorer is tom\", min(L))\n",
        "elif min_marks==15 or min_marks>10:\n",
        "        print(\"The lowest scorer is John\", min(L))\n",
        "else:\n",
        "    print(\"The lowest scorer is Bob :\", min(L))"
      ]
    },
    {
      "cell_type": "markdown",
      "id": "20f59542",
      "metadata": {
        "id": "20f59542"
      },
      "source": [
        "#### 8. Take a number as input and print whether the number is a multiple of 3,5 or both."
      ]
    },
    {
      "cell_type": "code",
      "execution_count": null,
      "id": "otWg3MXaYing",
      "metadata": {
        "id": "otWg3MXaYing",
        "outputId": "ad6b894e-5835-4a63-f46c-7dd5c580295e"
      },
      "outputs": [
        {
          "name": "stdout",
          "output_type": "stream",
          "text": [
            "enter the number : 30\n",
            "The number is divisible by both 3 and 5\n"
          ]
        }
      ],
      "source": [
        "n = int(input(\"enter the number : \"))\n",
        "\n",
        "if n%15==0:\n",
        "    print(\"The number is divisible by both 3 and 5\")\n",
        "elif n%3==0:\n",
        "    print(\"The number is divisible by 3\")\n",
        "elif n%5==0:\n",
        "    print(\"The number is divisible by 5\")\n",
        "else:\n",
        "    print(\"This number is not divisible by 3 or 5\")"
      ]
    },
    {
      "cell_type": "markdown",
      "id": "b770e791",
      "metadata": {
        "id": "b770e791"
      },
      "source": [
        "#### 9. Write a program to take three strings as input and print the string having second largest number of words."
      ]
    },
    {
      "cell_type": "code",
      "execution_count": null,
      "id": "0359e7ef",
      "metadata": {
        "id": "0359e7ef",
        "outputId": "17a2129a-37a9-44f9-f028-014656219792"
      },
      "outputs": [
        {
          "name": "stdout",
          "output_type": "stream",
          "text": [
            "Enter the number of strings you want to enter : 3\n",
            "enter the string : my name is sohail khan, I'm from hyd \n",
            "enter the string : hey hi, how are you\n",
            "enter the string : I'm fine thank you for asking\n",
            "The given strings are :  [\"my name is sohail khan, I'm from hyd \", 'hey hi, how are you', \"I'm fine thank you for asking\"]\n",
            "The lengths of given strings are :  [9, 5, 6]\n",
            "\n",
            "\n",
            "[5, 6, 9]\n",
            "The second largest number of words in these strings is :  6\n"
          ]
        }
      ],
      "source": [
        "strings = []\n",
        "numb = int(input(\"Enter the number of strings you want to enter : \"))\n",
        "for i in range(numb):\n",
        "    string = input(\"enter the string : \")      # taking the string input from the user\n",
        "    strings.append(string)                  # appending the given input string to the created variable\n",
        "print(\"The given strings are : \", strings)\n",
        "words = []\n",
        "for string in strings:\n",
        "    word = string.split(\" \")    # we're splitting the words in the seperates string\n",
        "    count = len(word)           # counting the length of the diff strings\n",
        "    words.append(count)         # appending the length values of strings in the varialbe\n",
        "print(\"The lengths of given strings are : \", words)\n",
        "print(\"\\n\")\n",
        "Sort = words.sort()\n",
        "print(words)\n",
        "print(\"The second largest number of words in these strings is : \", words[-2])"
      ]
    },
    {
      "cell_type": "markdown",
      "id": "5a485c8c",
      "metadata": {
        "id": "5a485c8c"
      },
      "source": [
        "#### 10. Write a program to take four strings as input and print the string having third highest number of words."
      ]
    },
    {
      "cell_type": "code",
      "execution_count": null,
      "id": "LZxu2EihcFFf",
      "metadata": {
        "id": "LZxu2EihcFFf",
        "outputId": "8a531904-e74a-496c-9384-182b6cfb6fea"
      },
      "outputs": [
        {
          "name": "stdout",
          "output_type": "stream",
          "text": [
            "Enter the number of strings you want to enter : 4\n",
            "enter the string : Hyderabad is now\n",
            "enter the string : AI capital of India\n",
            "enter the string : This city is growing rapidly\n",
            "enter the string : at fast pace\n",
            "The given strings are :  ['Hyderabad is now', 'AI capital of India', 'This city is growing rapidly', 'at fast pace']\n",
            "The lengths of given strings are :  [3, 4, 5, 3]\n",
            "\n",
            "\n",
            "[3, 3, 4, 5]\n",
            "The third largest number of words in these strings is :  3\n"
          ]
        }
      ],
      "source": [
        "strings = []\n",
        "numb = int(input(\"Enter the number of strings you want to enter : \"))\n",
        "for i in range(numb):\n",
        "    string = input(\"enter the string : \")      # taking the string input from the user\n",
        "    strings.append(string)                  # appending the given input string to the created variable\n",
        "print(\"The given strings are : \", strings)\n",
        "words = []\n",
        "for string in strings:\n",
        "    word = string.split(\" \")    # we're splitting the words in the seperates string\n",
        "    count = len(word)           # counting the length of the diff strings\n",
        "    words.append(count)         # appending the length values of strings in the varialbe\n",
        "print(\"The lengths of given strings are : \", words)\n",
        "print(\"\\n\")\n",
        "Sort = words.sort()\n",
        "print(words)\n",
        "print(\"The third largest number of words in these strings is : \", words[-3])"
      ]
    }
  ],
  "metadata": {
    "colab": {
      "provenance": [],
      "include_colab_link": true
    },
    "kernelspec": {
      "display_name": "Python 3 (ipykernel)",
      "language": "python",
      "name": "python3"
    },
    "language_info": {
      "codemirror_mode": {
        "name": "ipython",
        "version": 3
      },
      "file_extension": ".py",
      "mimetype": "text/x-python",
      "name": "python",
      "nbconvert_exporter": "python",
      "pygments_lexer": "ipython3",
      "version": "3.10.9"
    }
  },
  "nbformat": 4,
  "nbformat_minor": 5
}