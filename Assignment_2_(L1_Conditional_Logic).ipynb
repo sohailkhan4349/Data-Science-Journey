
      "source": [
        "### 1.\n",
        "\n",
        "Go through the string below and if the length of a word is even print \"even!\"\n",
        "\n",
        "string = 'I know how to print every word in this sentence that has an even number of letters'"
      ]
    },
    {
      "cell_type": "code",
      "execution_count": null,
      "id": "4dec28a9",
      "metadata": {
        "id": "4dec28a9",
        "outputId": "4eac450c-1b53-4652-ee2c-59b5781f8cf5"
      },
      "outputs": [
        {
          "name": "stdout",
          "output_type": "stream",
          "text": [
            "The length of words in given string is ODD!\n"
          ]
        }
      ],
      "source": [
        "string = 'I know how to print every word in this sentence that has an even number of letters'\n",
        "\n",
        "a=(len(string.split(\" \")))\n",
        "if a%2==0:\n",
        "    print(\"The length of words in given string is EVEN!\")\n",
        "else:\n",
        "    print(\"The length of words in given string is ODD!\")\n",
        "\n"
      ]
    },
    {
      "cell_type": "markdown",
      "id": "8569bc4e",
      "metadata": {
        "id": "8569bc4e"
      },
      "source": [
        "### 2.\n",
        "\n",
        "Write a program to check given number is odd or even\n",
        "\n",
        "Hint:\n",
        "- 20 is even\n",
        "- 27 is odd"
      ]
    },
    {
      "cell_type": "code",
      "execution_count": null,
      "id": "9ccfca15",
      "metadata": {
        "id": "9ccfca15",
        "outputId": "1cd71cac-05e7-4fd2-9b03-c346756ec1bc"
      },
      "outputs": [
        {
          "name": "stdout",
          "output_type": "stream",
          "text": [
            "enter the number : 21\n",
            "The number is odd!\n"
          ]
        }
      ],
      "source": [
        "n = input(\"enter the number : \")\n",
        "num = int(n)\n",
        "if num%2==0:\n",
        "    print(\"The number is even!\")\n",
        "else:\n",
        "    print(\"The number is odd!\")"
      ]
    },
    {
      "cell_type": "markdown",
      "id": "40759409",
      "metadata": {
        "id": "40759409"
      },
      "source": [
        "### 3.\n",
        "\n",
        "Write a program to check given number is divisible by 6 or not\n",
        "\n",
        "Hint:\n",
        "24 is divisible by 6\n",
        "27 is not divisible by 6"
      ]
    },
    {
      "cell_type": "code",
      "execution_count": null,
      "id": "f7409469",
      "metadata": {
        "id": "f7409469",
        "outputId": "d437d806-c55b-429e-a355-efe219f5fdd8"
      },
      "outputs": [
        {
          "name": "stdout",
          "output_type": "stream",
          "text": [
            "Enter the number to check it is divisible by 6 or not : 12\n",
            "\n",
            "\n",
            "The number is divisbile by 6\n"
          ]
        }
      ],
      "source": [
        "nmbr= input(\"Enter the number to check it is divisible by 6 or not : \")\n",
        "n = int(nmbr)\n",
        "print(\"\\n\")\n",
        "if n%6==0:\n",
        "    print(\"The number is divisbile by 6\")\n",
        "else:\n",
        "    print(\"The number is not divisible by 6\")"
      ]
    },
    {
      "cell_type": "markdown",
      "id": "0dd3847a",
      "metadata": {
        "id": "0dd3847a"
      },
      "source": [
        "### 4.\n",
        "\n",
        "Create a list containing the following 3 elements:\n",
        "\n",
        "- Subject person had taken\n",
        "- Marks Achieved\n",
        "- a boolean value showing previous programming experience\n",
        "\n",
        "print all details and also print person has programming experience or not"
      ]
    },
    {
      "cell_type": "code",
      "execution_count": null,
      "id": "5c87efcb",
      "metadata": {
        "id": "5c87efcb",
        "outputId": "4eb47481-bd1c-414f-b062-b04c58cbee25"
      },
      "outputs": [
        {
          "name": "stdout",
          "output_type": "stream",
          "text": [
            "The subject chosen by students is :  maths\n",
            "The marks acheived in chosen sub is :  80\n",
            "Student has programming exp :  True\n"
          ]
        }
      ],
      "source": [
        "l =[\"maths\", 80 , True]\n",
        "sub = l[0]\n",
        "marks = l[1]\n",
        "pro_exp = l[2]\n",
        "\n",
        "print(\"The subject chosen by students is : \", sub)\n",
        "print(\"The marks acheived in chosen sub is : \", marks)\n",
        "print(\"Student has programming exp : \", pro_exp)"
      ]
    },
    {
      "cell_type": "markdown",
      "id": "a54510f0",
      "metadata": {
        "id": "a54510f0"
      },
      "source": [
        "### 5.\n",
        "\n",
        "Write a program to check sum of all elements in a list is greater than 100 or not\n",
        "\n",
        "Hint:\n",
        "- [11, 13, 17, 19, 11] --> sum is not greater than 100\n",
        "- [24, 36, 30, 31, 42] --> sum is greater than 100"
      ]
    },
    {
      "cell_type": "code",
      "execution_count": null,
      "id": "5d53ba1f",
      "metadata": {
        "id": "5d53ba1f",
        "outputId": "823c3681-6162-424c-dffd-5f81115ae22b"
      },
      "outputs": [
        {
          "name": "stdout",
          "output_type": "stream",
          "text": [
            "how many number you want to enter5\n",
            "Enter the numbers: 23\n",
            "Enter the numbers: 22\n",
            "Enter the numbers: 42\n",
            "Enter the numbers: 12\n",
            "Enter the numbers: 1\n",
            "The entered numbers are :  [23, 22, 42, 12, 1]\n",
            "\n",
            "\n",
            "The sum of numbers is less than 100\n"
          ]
        }
      ],
      "source": [
        "n = int(input(\"how many number you want to enter\"))\n",
        "l = []\n",
        "\n",
        "for i in range(0,n):\n",
        "    lst=int(input(\"Enter the numbers: \"))\n",
        "    l.append(lst)\n",
        "print(\"The entered numbers are : \", l)\n",
        "print(\"\\n\")\n",
        "if sum(l)>100:\n",
        "    print(\"The sum of numbers is greater than 100\")\n",
        "else:\n",
        "    print(\"The sum of numbers is less than 100\")"
      ]
    }
  ],
  "metadata": {
    "colab": {
      "provenance": [],
      "include_colab_link": true
    },
    "kernelspec": {
      "display_name": "Python 3 (ipykernel)",
      "language": "python",
      "name": "python3"
    },
    "language_info": {
      "codemirror_mode": {
        "name": "ipython",
        "version": 3
      },
      "file_extension": ".py",
      "mimetype": "text/x-python",
      "name": "python",
      "nbconvert_exporter": "python",
      "pygments_lexer": "ipython3",
      "version": "3.10.9"
    }
  },
  "nbformat": 4,
  "nbformat_minor": 5
}
