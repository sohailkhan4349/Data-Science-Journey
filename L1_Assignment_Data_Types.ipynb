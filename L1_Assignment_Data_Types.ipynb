{
  "cells": [
    {
      "cell_type": "markdown",
      "metadata": {
        "id": "view-in-github",
        "colab_type": "text"
      },
      "source": [
        "<a href=\"https://colab.research.google.com/github/sohailkhan4349/Data-science-Journey/blob/main/L1_Assignment_Data_Types.ipynb\" target=\"_parent\"><img src=\"https://colab.research.google.com/assets/colab-badge.svg\" alt=\"Open In Colab\"/></a>"
      ]
    },
    {
      "cell_type": "markdown",
      "id": "5fad3b2a",
      "metadata": {
        "id": "5fad3b2a"
      },
      "source": []
    },
    {
      "cell_type": "markdown",
      "id": "03363a58",
      "metadata": {
        "id": "03363a58"
      },
      "source": [
        "### 1.\n",
        "\n",
        "Write a Python program to perform following tasks on a list\n",
        "\n",
        "<ol>\n",
        "    <li>Create an empty list with name l1</li>\n",
        "    <li>Add atleast 5 number to the l1</li>\n",
        "    <li>Add 100 at 2<sup>nd</sup> position</li>\n",
        "    <li>Add 1000 at front of the l1</li>\n",
        "    <li>Delete element at 3<sup>rd</sup> position</li>\n",
        "    <li>Display elements at even position</li>\n",
        "    <li>Display elements in reverse order</li>\n",
        "</ol>"
      ]
    },
    {
      "cell_type": "code",
      "execution_count": null,
      "id": "73d7418b",
      "metadata": {
        "id": "73d7418b"
      },
      "outputs": [],
      "source": [
        "a= []                 #created the list with name l1"
      ]
    },
    {
      "cell_type": "code",
      "execution_count": null,
      "id": "c4e36727",
      "metadata": {
        "id": "c4e36727",
        "outputId": "e295f0d1-5d96-4535-e904-a2867edad94a"
      },
      "outputs": [
        {
          "name": "stdout",
          "output_type": "stream",
          "text": [
            "[1, 2, 3, 4, 5]\n"
          ]
        }
      ],
      "source": [
        "a =[]                 #added 5 numbers to the list l1\n",
        "for i in range(1,6):\n",
        "    a.append(i)\n",
        "print(a)"
      ]
    },
    {
      "cell_type": "code",
      "execution_count": null,
      "id": "759bc739",
      "metadata": {
        "id": "759bc739",
        "outputId": "11b95068-4be0-40c2-b4a5-3204b71d662d"
      },
      "outputs": [
        {
          "name": "stdout",
          "output_type": "stream",
          "text": [
            "[1, 100, 3, 4, 5]\n"
          ]
        }
      ],
      "source": [
        "a[1]=100              #added 100 at the 2nd position\n",
        "print(a)"
      ]
    },
    {
      "cell_type": "code",
      "execution_count": null,
      "id": "7c6610d6",
      "metadata": {
        "id": "7c6610d6",
        "outputId": "83d3b72b-6b20-4c3f-fabe-9285dddd081b"
      },
      "outputs": [
        {
          "name": "stdout",
          "output_type": "stream",
          "text": [
            "[1000, 100, 3, 4, 5]\n"
          ]
        }
      ],
      "source": [
        "a[0]=1000             #added 1000 at the front of the l1\n",
        "print(a)"
      ]
    },
    {
      "cell_type": "code",
      "execution_count": null,
      "id": "7d67d5be",
      "metadata": {
        "id": "7d67d5be",
        "outputId": "2cc0afe2-77ef-41f9-8c8f-02667bfbc79f"
      },
      "outputs": [
        {
          "name": "stdout",
          "output_type": "stream",
          "text": [
            "[1000, 100, 4, 5]\n"
          ]
        }
      ],
      "source": [
        "a.pop(2)              #deleted the 3rd element from the list\n",
        "print(a)"
      ]
    },
    {
      "cell_type": "code",
      "execution_count": null,
      "id": "4a751afb",
      "metadata": {
        "id": "4a751afb",
        "outputId": "40220626-ce26-4e22-8e19-a9b0a077b4ad"
      },
      "outputs": [
        {
          "name": "stdout",
          "output_type": "stream",
          "text": [
            "[1000, 4]\n"
          ]
        }
      ],
      "source": [
        "a=a[0:len(a):2]       #displayed the elements at the even position\n",
        "print(a)"
      ]
    },
    {
      "cell_type": "code",
      "execution_count": null,
      "id": "25f03d6f",
      "metadata": {
        "id": "25f03d6f",
        "outputId": "09f0e1d2-2361-4cd6-9aea-386eca0a506c"
      },
      "outputs": [
        {
          "name": "stdout",
          "output_type": "stream",
          "text": [
            "[4, 1000]\n"
          ]
        }
      ],
      "source": [
        "a.reverse()           #displayed the elements in the reverse order\n",
        "print(a)"
      ]
    },
    {
      "cell_type": "markdown",
      "id": "3d5efe73",
      "metadata": {
        "id": "3d5efe73"
      },
      "source": [
        "### 2.\n",
        "\n",
        "Grab ``StarAgile`` from the following Dictionaries\n",
        "\n",
        "d_difficult = {'k1':[{'nest_key':['this is deep',['StarAgile']]}]}\n",
        "\n",
        "d_irritating = {'k1':[1,2,{'k2':['this is not easy',{'VeryIrriating':[1,2,['StarAgile']]}]}]}"
      ]
    },
    {
      "cell_type": "markdown",
      "id": "6601579f",
      "metadata": {
        "id": "6601579f"
      },
      "source": [
        "# 2(a)"
      ]
    },
    {
      "cell_type": "code",
      "execution_count": null,
      "id": "baef6917",
      "metadata": {
        "id": "baef6917",
        "outputId": "37d97d7f-ba01-4b4c-921a-db982a14b966"
      },
      "outputs": [
        {
          "name": "stdout",
          "output_type": "stream",
          "text": [
            "{'k1': [{'nest_key': ['this is deep', ['StarAgile']]}]}\n"
          ]
        }
      ],
      "source": [
        "d_difficult = {'k1':[{'nest_key':['this is deep',['StarAgile']]}]}    #copied the given data and then printed the variable\n",
        "print(d_difficult)"
      ]
    },
    {
      "cell_type": "code",
      "execution_count": null,
      "id": "ed88d8be",
      "metadata": {
        "id": "ed88d8be",
        "outputId": "a2f14f4d-888b-43c7-8fdf-b495b1c0f463"
      },
      "outputs": [
        {
          "data": {
            "text/plain": [
              "[{'nest_key': ['this is deep', ['StarAgile']]}]"
            ]
          },
          "execution_count": 18,
          "metadata": {},
          "output_type": "execute_result"
        }
      ],
      "source": [
        "d_difficult[\"k1\"]                              #we're using the KEY(k1) to get the values which are in list"
      ]
    },
    {
      "cell_type": "code",
      "execution_count": null,
      "id": "ce384205",
      "metadata": {
        "id": "ce384205",
        "outputId": "50f85be4-6f28-4a29-eafd-0522319d3267"
      },
      "outputs": [
        {
          "data": {
            "text/plain": [
              "{'nest_key': ['this is deep', ['StarAgile']]}"
            ]
          },
          "execution_count": 19,
          "metadata": {},
          "output_type": "execute_result"
        }
      ],
      "source": [
        "d_difficult[\"k1\"][0]                           #using indexing to print the values since it is now a list"
      ]
    },
    {
      "cell_type": "code",
      "execution_count": null,
      "id": "fe219b3f",
      "metadata": {
        "id": "fe219b3f",
        "outputId": "1a395aa1-3e2d-4d98-c7bf-e04be01c6764"
      },
      "outputs": [
        {
          "data": {
            "text/plain": [
              "['this is deep', ['StarAgile']]"
            ]
          },
          "execution_count": 20,
          "metadata": {},
          "output_type": "execute_result"
        }
      ],
      "source": [
        "d_difficult[\"k1\"][0][\"nest_key\"]               #using KEY(nest_key) to get the values inside it"
      ]
    },
    {
      "cell_type": "code",
      "execution_count": null,
      "id": "2ab9ff88",
      "metadata": {
        "id": "2ab9ff88",
        "outputId": "d6ae5d59-2613-49ed-c801-09d935ffbf01"
      },
      "outputs": [
        {
          "data": {
            "text/plain": [
              "['StarAgile']"
            ]
          },
          "execution_count": 21,
          "metadata": {},
          "output_type": "execute_result"
        }
      ],
      "source": [
        "d_difficult[\"k1\"][0][\"nest_key\"][1]           #using indexing to call the required value"
      ]
    },
    {
      "cell_type": "code",
      "execution_count": null,
      "id": "0dd6587b",
      "metadata": {
        "id": "0dd6587b",
        "outputId": "66f8f45f-30ef-4fec-e882-e5682331b72c"
      },
      "outputs": [
        {
          "data": {
            "text/plain": [
              "'StarAgile'"
            ]
          },
          "execution_count": 22,
          "metadata": {},
          "output_type": "execute_result"
        }
      ],
      "source": [
        "d_difficult[\"k1\"][0][\"nest_key\"][1][0]        #using indexing to call the required value from the list"
      ]
    },
    {
      "cell_type": "markdown",
      "id": "dab5822a",
      "metadata": {
        "id": "dab5822a"
      },
      "source": [
        "# 2(b)"
      ]
    },
    {
      "cell_type": "code",
      "execution_count": null,
      "id": "8d3ed079",
      "metadata": {
        "id": "8d3ed079",
        "outputId": "2329ea42-99af-4085-bfbc-b8f4feea007b"
      },
      "outputs": [
        {
          "name": "stdout",
          "output_type": "stream",
          "text": [
            "{'k1': [1, 2, {'k2': ['this is not easy', {'VeryIrriating': [1, 2, ['StarAgile']]}]}]}\n"
          ]
        }
      ],
      "source": [
        "d_irritating = {'k1':[1,2,{'k2':['this is not easy',{'VeryIrriating':[1,2,['StarAgile']]}]}]}\n",
        "print(d_irritating)"
      ]
    },
    {
      "cell_type": "code",
      "execution_count": null,
      "id": "facb76b1",
      "metadata": {
        "id": "facb76b1",
        "outputId": "3a08111b-2d1d-4219-d77b-c5d05eed7cd1"
      },
      "outputs": [
        {
          "data": {
            "text/plain": [
              "[1, 2, {'k2': ['this is not easy', {'VeryIrriating': [1, 2, ['StarAgile']]}]}]"
            ]
          },
          "execution_count": 24,
          "metadata": {},
          "output_type": "execute_result"
        }
      ],
      "source": [
        "d_irritating[\"k1\"]                    # followed the same steps from above problem to solve this."
      ]
    },
    {
      "cell_type": "code",
      "execution_count": null,
      "id": "18ac251b",
      "metadata": {
        "id": "18ac251b",
        "outputId": "205e7cbd-6fcb-452e-baa4-fb1a4473413c"
      },
      "outputs": [
        {
          "data": {
            "text/plain": [
              "{'k2': ['this is not easy', {'VeryIrriating': [1, 2, ['StarAgile']]}]}"
            ]
          },
          "execution_count": 25,
          "metadata": {},
          "output_type": "execute_result"
        }
      ],
      "source": [
        "d_irritating[\"k1\"][2]"
      ]
    },
    {
      "cell_type": "code",
      "execution_count": null,
      "id": "42ffe290",
      "metadata": {
        "id": "42ffe290",
        "outputId": "9fc16a99-186f-40d9-8bf1-ada0edf329c6"
      },
      "outputs": [
        {
          "data": {
            "text/plain": [
              "['this is not easy', {'VeryIrriating': [1, 2, ['StarAgile']]}]"
            ]
          },
          "execution_count": 26,
          "metadata": {},
          "output_type": "execute_result"
        }
      ],
      "source": [
        "d_irritating[\"k1\"][2][\"k2\"]"
      ]
    },
    {
      "cell_type": "code",
      "execution_count": null,
      "id": "50365d10",
      "metadata": {
        "id": "50365d10",
        "outputId": "55cd681a-b0fa-441c-9b2b-e40927e84212"
      },
      "outputs": [
        {
          "data": {
            "text/plain": [
              "{'VeryIrriating': [1, 2, ['StarAgile']]}"
            ]
          },
          "execution_count": 27,
          "metadata": {},
          "output_type": "execute_result"
        }
      ],
      "source": [
        "d_irritating[\"k1\"][2][\"k2\"][1]"
      ]
    },
    {
      "cell_type": "code",
      "execution_count": null,
      "id": "f341068f",
      "metadata": {
        "id": "f341068f",
        "outputId": "b25a9fa1-68d2-4b1c-e1d2-77dac52d792e"
      },
      "outputs": [
        {
          "data": {
            "text/plain": [
              "[1, 2, ['StarAgile']]"
            ]
          },
          "execution_count": 28,
          "metadata": {},
          "output_type": "execute_result"
        }
      ],
      "source": [
        "d_irritating[\"k1\"][2][\"k2\"][1][\"VeryIrriating\"]"
      ]
    },
    {
      "cell_type": "code",
      "execution_count": null,
      "id": "2cb14b73",
      "metadata": {
        "id": "2cb14b73",
        "outputId": "5c8a74cd-8680-48b2-9540-cd3ed120ee31"
      },
      "outputs": [
        {
          "data": {
            "text/plain": [
              "['StarAgile']"
            ]
          },
          "execution_count": 29,
          "metadata": {},
          "output_type": "execute_result"
        }
      ],
      "source": [
        "d_irritating[\"k1\"][2][\"k2\"][1][\"VeryIrriating\"][2]"
      ]
    },
    {
      "cell_type": "code",
      "execution_count": null,
      "id": "c4e1e0b8",
      "metadata": {
        "id": "c4e1e0b8",
        "outputId": "8eb8defd-ac92-4219-a41f-6ece391fec1a"
      },
      "outputs": [
        {
          "data": {
            "text/plain": [
              "'StarAgile'"
            ]
          },
          "execution_count": 30,
          "metadata": {},
          "output_type": "execute_result"
        }
      ],
      "source": [
        "d_irritating[\"k1\"][2][\"k2\"][1][\"VeryIrriating\"][2][0]"
      ]
    },
    {
      "cell_type": "markdown",
      "id": "0540a188",
      "metadata": {
        "id": "0540a188"
      },
      "source": [
        "### 3.\n",
        "\n",
        "Write a program to accept a string from the user and display characters that are present at an even index number.\n",
        "\n",
        "For example, str = \"judgemental\" so you should display ‘j’, ‘d’, ‘e’, ‘e’, ‘t’, ‘l’."
      ]
    },
    {
      "cell_type": "code",
      "execution_count": null,
      "id": "e9747ccc",
      "metadata": {
        "id": "e9747ccc",
        "outputId": "a15db49b-3a6b-4871-c594-5b08f592395c"
      },
      "outputs": [
        {
          "name": "stdout",
          "output_type": "stream",
          "text": [
            "enter the name: Sohail khan\n",
            "('Displaying the characters at the even index :', ('S', 'h', 'i', ' ', 'h', 'n'))\n"
          ]
        }
      ],
      "source": [
        "name=tuple(input(\"enter the name: \"))\n",
        "print ((\"Displaying the characters at the even index :\", name[0:len(name):2]))"
      ]
    },
    {
      "cell_type": "markdown",
      "id": "e0884cde",
      "metadata": {
        "id": "e0884cde"
      },
      "source": [
        "### 4.\n",
        "\n",
        "Convert the Float Value of '3.8' into Integer, Complex, Binary and Hexidecimal format"
      ]
    },
    {
      "cell_type": "code",
      "execution_count": null,
      "id": "99555c16",
      "metadata": {
        "id": "99555c16",
        "outputId": "34151c6a-73f4-43d7-b690-5ff4f4882987"
      },
      "outputs": [
        {
          "data": {
            "text/plain": [
              "3"
            ]
          },
          "execution_count": 4,
          "metadata": {},
          "output_type": "execute_result"
        }
      ],
      "source": [
        "int(3.8)"
      ]
    },
    {
      "cell_type": "code",
      "execution_count": null,
      "id": "bfe47ce8",
      "metadata": {
        "id": "bfe47ce8",
        "outputId": "3197766a-2647-48c0-b644-1105a6e6535e"
      },
      "outputs": [
        {
          "data": {
            "text/plain": [
              "(3.8+0j)"
            ]
          },
          "execution_count": 5,
          "metadata": {},
          "output_type": "execute_result"
        }
      ],
      "source": [
        "complex(3.8)"
      ]
    },
    {
      "cell_type": "code",
      "execution_count": null,
      "id": "ccf84640",
      "metadata": {
        "id": "ccf84640",
        "outputId": "3cb4f0fe-ac57-4fe7-f4fb-a6eeb08c3063"
      },
      "outputs": [
        {
          "name": "stdout",
          "output_type": "stream",
          "text": [
            "0b11\n"
          ]
        }
      ],
      "source": [
        "a1=3.8\n",
        "print(bin(int(a1)))"
      ]
    },
    {
      "cell_type": "code",
      "execution_count": null,
      "id": "6ffa10b6",
      "metadata": {
        "id": "6ffa10b6"
      },
      "outputs": [],
      "source": []
    },
    {
      "cell_type": "markdown",
      "id": "25187f2c",
      "metadata": {
        "id": "25187f2c"
      },
      "source": [
        "### 5.\n",
        "\n",
        "Write a program to accept five names from the user and store it in a Tuple 'T1'"
      ]
    },
    {
      "cell_type": "code",
      "execution_count": null,
      "id": "7a5b4164",
      "metadata": {
        "id": "7a5b4164",
        "outputId": "1db2e533-c131-4f1b-d782-fedc9b46cf03"
      },
      "outputs": [
        {
          "name": "stdout",
          "output_type": "stream",
          "text": [
            "enter the count of names: 4\n",
            "enter the names: my\n",
            "enter the names: name\n",
            "enter the names: is\n",
            "enter the names: sohail\n",
            "('my', 'name', 'is', 'sohail')\n",
            "<class 'tuple'>\n",
            "4\n"
          ]
        }
      ],
      "source": [
        "n=int(input(\"enter the count of names: \"))\n",
        "i=0\n",
        "name=()\n",
        "while i<n:\n",
        "    names=str(input(\"enter the names: \"))\n",
        "    name=name+(names,)\n",
        "    i=i+1\n",
        "print(name)\n",
        "print(type(name))\n",
        "print(len(name))"
      ]
    },
    {
      "cell_type": "code",
      "execution_count": null,
      "id": "b2b4d2be",
      "metadata": {
        "id": "b2b4d2be"
      },
      "outputs": [],
      "source": []
    }
  ],
  "metadata": {
    "colab": {
      "provenance": [],
      "include_colab_link": true
    },
    "kernelspec": {
      "display_name": "Python 3 (ipykernel)",
      "language": "python",
      "name": "python3"
    },
    "language_info": {
      "codemirror_mode": {
        "name": "ipython",
        "version": 3
      },
      "file_extension": ".py",
      "mimetype": "text/x-python",
      "name": "python",
      "nbconvert_exporter": "python",
      "pygments_lexer": "ipython3",
      "version": "3.10.9"
    }
  },
  "nbformat": 4,
  "nbformat_minor": 5
}